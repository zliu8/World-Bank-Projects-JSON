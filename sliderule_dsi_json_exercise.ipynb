{
  "nbformat": 4,
  "nbformat_minor": 0,
  "metadata": {
    "colab": {
      "name": "sliderule_dsi_json_exercise.ipynb",
      "version": "0.3.2",
      "provenance": [],
      "collapsed_sections": [],
      "toc_visible": true,
      "include_colab_link": true
    },
    "kernelspec": {
      "name": "python3",
      "display_name": "Python 3"
    },
    "accelerator": "GPU"
  },
  "cells": [
    {
      "cell_type": "markdown",
      "metadata": {
        "id": "view-in-github",
        "colab_type": "text"
      },
      "source": [
        "[View in Colaboratory](https://colab.research.google.com/gist/zliu8/a2874769b83c6089c418efeb22661c99/sliderule_dsi_json_exercise.ipynb)"
      ]
    },
    {
      "metadata": {
        "id": "Sh1pcMOmMYgU",
        "colab_type": "text"
      },
      "cell_type": "markdown",
      "source": [
        "# JSON examples and exercise\n",
        "****\n",
        "+ get familiar with packages for dealing with JSON\n",
        "+ study examples with JSON strings and files \n",
        "+ work on exercise to be completed and submitted \n",
        "****\n",
        "+ reference: http://pandas.pydata.org/pandas-docs/stable/io.html#io-json-reader\n",
        "+ data source: http://jsonstudio.com/resources/\n",
        "****"
      ]
    },
    {
      "metadata": {
        "id": "tycsbX9iMYgV",
        "colab_type": "code",
        "colab": {}
      },
      "cell_type": "code",
      "source": [
        "import pandas as pd"
      ],
      "execution_count": 0,
      "outputs": []
    },
    {
      "metadata": {
        "id": "3EXHc5WDMYgb",
        "colab_type": "text"
      },
      "cell_type": "markdown",
      "source": [
        "## imports for Python, Pandas"
      ]
    },
    {
      "metadata": {
        "id": "w132of2AMYgb",
        "colab_type": "code",
        "colab": {}
      },
      "cell_type": "code",
      "source": [
        "import json\n",
        "from pandas.io.json import json_normalize"
      ],
      "execution_count": 0,
      "outputs": []
    },
    {
      "metadata": {
        "id": "BqnMLO_NMYge",
        "colab_type": "text"
      },
      "cell_type": "markdown",
      "source": [
        "## JSON example, with string\n",
        "\n",
        "+ demonstrates creation of normalized dataframes (tables) from nested json string\n",
        "+ source: http://pandas.pydata.org/pandas-docs/stable/io.html#normalization"
      ]
    },
    {
      "metadata": {
        "id": "qB6PwhzeMYgf",
        "colab_type": "code",
        "colab": {}
      },
      "cell_type": "code",
      "source": [
        "# define json string\n",
        "data = [{'state': 'Florida', \n",
        "         'shortname': 'FL',\n",
        "         'info': {'governor': 'Rick Scott'},\n",
        "         'counties': [{'name': 'Dade', 'population': 12345},\n",
        "                      {'name': 'Broward', 'population': 40000},\n",
        "                      {'name': 'Palm Beach', 'population': 60000}]},\n",
        "        {'state': 'Ohio',\n",
        "         'shortname': 'OH',\n",
        "         'info': {'governor': 'John Kasich'},\n",
        "         'counties': [{'name': 'Summit', 'population': 1234},\n",
        "                      {'name': 'Cuyahoga', 'population': 1337}]}]"
      ],
      "execution_count": 0,
      "outputs": []
    },
    {
      "metadata": {
        "id": "rfsAbhbVMYgi",
        "colab_type": "code",
        "colab": {
          "base_uri": "https://localhost:8080/",
          "height": 204
        },
        "outputId": "4d6eca53-3f0a-4fad-bc5e-31c6b5aef77d"
      },
      "cell_type": "code",
      "source": [
        "# use normalization to create tables from nested element\n",
        "json_normalize(data, 'counties')"
      ],
      "execution_count": 4,
      "outputs": [
        {
          "output_type": "execute_result",
          "data": {
            "text/html": [
              "<div>\n",
              "<style scoped>\n",
              "    .dataframe tbody tr th:only-of-type {\n",
              "        vertical-align: middle;\n",
              "    }\n",
              "\n",
              "    .dataframe tbody tr th {\n",
              "        vertical-align: top;\n",
              "    }\n",
              "\n",
              "    .dataframe thead th {\n",
              "        text-align: right;\n",
              "    }\n",
              "</style>\n",
              "<table border=\"1\" class=\"dataframe\">\n",
              "  <thead>\n",
              "    <tr style=\"text-align: right;\">\n",
              "      <th></th>\n",
              "      <th>name</th>\n",
              "      <th>population</th>\n",
              "    </tr>\n",
              "  </thead>\n",
              "  <tbody>\n",
              "    <tr>\n",
              "      <th>0</th>\n",
              "      <td>Dade</td>\n",
              "      <td>12345</td>\n",
              "    </tr>\n",
              "    <tr>\n",
              "      <th>1</th>\n",
              "      <td>Broward</td>\n",
              "      <td>40000</td>\n",
              "    </tr>\n",
              "    <tr>\n",
              "      <th>2</th>\n",
              "      <td>Palm Beach</td>\n",
              "      <td>60000</td>\n",
              "    </tr>\n",
              "    <tr>\n",
              "      <th>3</th>\n",
              "      <td>Summit</td>\n",
              "      <td>1234</td>\n",
              "    </tr>\n",
              "    <tr>\n",
              "      <th>4</th>\n",
              "      <td>Cuyahoga</td>\n",
              "      <td>1337</td>\n",
              "    </tr>\n",
              "  </tbody>\n",
              "</table>\n",
              "</div>"
            ],
            "text/plain": [
              "         name  population\n",
              "0        Dade       12345\n",
              "1     Broward       40000\n",
              "2  Palm Beach       60000\n",
              "3      Summit        1234\n",
              "4    Cuyahoga        1337"
            ]
          },
          "metadata": {
            "tags": []
          },
          "execution_count": 4
        }
      ]
    },
    {
      "metadata": {
        "id": "0vCt1-DGMYgn",
        "colab_type": "code",
        "colab": {
          "base_uri": "https://localhost:8080/",
          "height": 204
        },
        "outputId": "7ad96a1d-b2f7-4997-cf94-23a306d11d3d"
      },
      "cell_type": "code",
      "source": [
        "# further populate tables created from nested element\n",
        "json_normalize(data, 'counties', ['state', 'shortname', ['info', 'governor']])"
      ],
      "execution_count": 5,
      "outputs": [
        {
          "output_type": "execute_result",
          "data": {
            "text/html": [
              "<div>\n",
              "<style scoped>\n",
              "    .dataframe tbody tr th:only-of-type {\n",
              "        vertical-align: middle;\n",
              "    }\n",
              "\n",
              "    .dataframe tbody tr th {\n",
              "        vertical-align: top;\n",
              "    }\n",
              "\n",
              "    .dataframe thead th {\n",
              "        text-align: right;\n",
              "    }\n",
              "</style>\n",
              "<table border=\"1\" class=\"dataframe\">\n",
              "  <thead>\n",
              "    <tr style=\"text-align: right;\">\n",
              "      <th></th>\n",
              "      <th>name</th>\n",
              "      <th>population</th>\n",
              "      <th>state</th>\n",
              "      <th>shortname</th>\n",
              "      <th>info.governor</th>\n",
              "    </tr>\n",
              "  </thead>\n",
              "  <tbody>\n",
              "    <tr>\n",
              "      <th>0</th>\n",
              "      <td>Dade</td>\n",
              "      <td>12345</td>\n",
              "      <td>Florida</td>\n",
              "      <td>FL</td>\n",
              "      <td>Rick Scott</td>\n",
              "    </tr>\n",
              "    <tr>\n",
              "      <th>1</th>\n",
              "      <td>Broward</td>\n",
              "      <td>40000</td>\n",
              "      <td>Florida</td>\n",
              "      <td>FL</td>\n",
              "      <td>Rick Scott</td>\n",
              "    </tr>\n",
              "    <tr>\n",
              "      <th>2</th>\n",
              "      <td>Palm Beach</td>\n",
              "      <td>60000</td>\n",
              "      <td>Florida</td>\n",
              "      <td>FL</td>\n",
              "      <td>Rick Scott</td>\n",
              "    </tr>\n",
              "    <tr>\n",
              "      <th>3</th>\n",
              "      <td>Summit</td>\n",
              "      <td>1234</td>\n",
              "      <td>Ohio</td>\n",
              "      <td>OH</td>\n",
              "      <td>John Kasich</td>\n",
              "    </tr>\n",
              "    <tr>\n",
              "      <th>4</th>\n",
              "      <td>Cuyahoga</td>\n",
              "      <td>1337</td>\n",
              "      <td>Ohio</td>\n",
              "      <td>OH</td>\n",
              "      <td>John Kasich</td>\n",
              "    </tr>\n",
              "  </tbody>\n",
              "</table>\n",
              "</div>"
            ],
            "text/plain": [
              "         name  population    state shortname info.governor\n",
              "0        Dade       12345  Florida        FL    Rick Scott\n",
              "1     Broward       40000  Florida        FL    Rick Scott\n",
              "2  Palm Beach       60000  Florida        FL    Rick Scott\n",
              "3      Summit        1234     Ohio        OH   John Kasich\n",
              "4    Cuyahoga        1337     Ohio        OH   John Kasich"
            ]
          },
          "metadata": {
            "tags": []
          },
          "execution_count": 5
        }
      ]
    },
    {
      "metadata": {
        "id": "qQyDM5FdMYgp",
        "colab_type": "text"
      },
      "cell_type": "markdown",
      "source": [
        "****\n",
        "## JSON example, with file\n",
        "\n",
        "+ demonstrates reading in a json file as a string and as a table\n",
        "+ uses small sample file containing data about projects funded by the World Bank \n",
        "+ data source: http://jsonstudio.com/resources/"
      ]
    },
    {
      "metadata": {
        "id": "N-ykVIvGMYgr",
        "colab_type": "code",
        "colab": {}
      },
      "cell_type": "code",
      "source": [
        "# load json as string\n",
        "json.load((open('world_bank_projects_less.json')))"
      ],
      "execution_count": 0,
      "outputs": []
    },
    {
      "metadata": {
        "id": "EjBfUiiwMYgu",
        "colab_type": "code",
        "colab": {
          "base_uri": "https://localhost:8080/",
          "height": 303
        },
        "outputId": "65386e0e-4ff3-45c8-dcb8-7abdeaf41744"
      },
      "cell_type": "code",
      "source": [
        "# load as Pandas dataframe\n",
        "sample_json_df = pd.read_json('world_bank_projects_less.json')\n",
        "sample_json_df"
      ],
      "execution_count": 10,
      "outputs": [
        {
          "output_type": "execute_result",
          "data": {
            "text/html": [
              "<div>\n",
              "<style scoped>\n",
              "    .dataframe tbody tr th:only-of-type {\n",
              "        vertical-align: middle;\n",
              "    }\n",
              "\n",
              "    .dataframe tbody tr th {\n",
              "        vertical-align: top;\n",
              "    }\n",
              "\n",
              "    .dataframe thead th {\n",
              "        text-align: right;\n",
              "    }\n",
              "</style>\n",
              "<table border=\"1\" class=\"dataframe\">\n",
              "  <thead>\n",
              "    <tr style=\"text-align: right;\">\n",
              "      <th></th>\n",
              "      <th>_id</th>\n",
              "      <th>approvalfy</th>\n",
              "      <th>board_approval_month</th>\n",
              "      <th>boardapprovaldate</th>\n",
              "      <th>borrower</th>\n",
              "      <th>closingdate</th>\n",
              "      <th>country_namecode</th>\n",
              "      <th>countrycode</th>\n",
              "      <th>countryname</th>\n",
              "      <th>countryshortname</th>\n",
              "      <th>...</th>\n",
              "      <th>sectorcode</th>\n",
              "      <th>source</th>\n",
              "      <th>status</th>\n",
              "      <th>supplementprojectflg</th>\n",
              "      <th>theme1</th>\n",
              "      <th>theme_namecode</th>\n",
              "      <th>themecode</th>\n",
              "      <th>totalamt</th>\n",
              "      <th>totalcommamt</th>\n",
              "      <th>url</th>\n",
              "    </tr>\n",
              "  </thead>\n",
              "  <tbody>\n",
              "    <tr>\n",
              "      <th>0</th>\n",
              "      <td>{'$oid': '52b213b38594d8a2be17c780'}</td>\n",
              "      <td>1999</td>\n",
              "      <td>November</td>\n",
              "      <td>2013-11-12T00:00:00Z</td>\n",
              "      <td>FEDERAL DEMOCRATIC REPUBLIC OF ETHIOPIA</td>\n",
              "      <td>2018-07-07T00:00:00Z</td>\n",
              "      <td>Federal Democratic Republic of Ethiopia!$!ET</td>\n",
              "      <td>ET</td>\n",
              "      <td>Federal Democratic Republic of Ethiopia</td>\n",
              "      <td>Ethiopia</td>\n",
              "      <td>...</td>\n",
              "      <td>ET,BS,ES,EP</td>\n",
              "      <td>IBRD</td>\n",
              "      <td>Active</td>\n",
              "      <td>N</td>\n",
              "      <td>{'Name': 'Education for all', 'Percent': 100}</td>\n",
              "      <td>[{'name': 'Education for all', 'code': '65'}]</td>\n",
              "      <td>65</td>\n",
              "      <td>130000000</td>\n",
              "      <td>130000000</td>\n",
              "      <td>http://www.worldbank.org/projects/P129828/ethi...</td>\n",
              "    </tr>\n",
              "    <tr>\n",
              "      <th>1</th>\n",
              "      <td>{'$oid': '52b213b38594d8a2be17c781'}</td>\n",
              "      <td>2015</td>\n",
              "      <td>November</td>\n",
              "      <td>2013-11-04T00:00:00Z</td>\n",
              "      <td>GOVERNMENT OF TUNISIA</td>\n",
              "      <td>NaN</td>\n",
              "      <td>Republic of Tunisia!$!TN</td>\n",
              "      <td>TN</td>\n",
              "      <td>Republic of Tunisia</td>\n",
              "      <td>Tunisia</td>\n",
              "      <td>...</td>\n",
              "      <td>BZ,BS</td>\n",
              "      <td>IBRD</td>\n",
              "      <td>Active</td>\n",
              "      <td>N</td>\n",
              "      <td>{'Name': 'Other economic management', 'Percent...</td>\n",
              "      <td>[{'name': 'Other economic management', 'code':...</td>\n",
              "      <td>54,24</td>\n",
              "      <td>0</td>\n",
              "      <td>4700000</td>\n",
              "      <td>http://www.worldbank.org/projects/P144674?lang=en</td>\n",
              "    </tr>\n",
              "  </tbody>\n",
              "</table>\n",
              "<p>2 rows × 50 columns</p>\n",
              "</div>"
            ],
            "text/plain": [
              "                                    _id  approvalfy board_approval_month  \\\n",
              "0  {'$oid': '52b213b38594d8a2be17c780'}        1999             November   \n",
              "1  {'$oid': '52b213b38594d8a2be17c781'}        2015             November   \n",
              "\n",
              "      boardapprovaldate                                 borrower  \\\n",
              "0  2013-11-12T00:00:00Z  FEDERAL DEMOCRATIC REPUBLIC OF ETHIOPIA   \n",
              "1  2013-11-04T00:00:00Z                    GOVERNMENT OF TUNISIA   \n",
              "\n",
              "            closingdate                              country_namecode  \\\n",
              "0  2018-07-07T00:00:00Z  Federal Democratic Republic of Ethiopia!$!ET   \n",
              "1                   NaN                      Republic of Tunisia!$!TN   \n",
              "\n",
              "  countrycode                              countryname countryshortname  \\\n",
              "0          ET  Federal Democratic Republic of Ethiopia         Ethiopia   \n",
              "1          TN                      Republic of Tunisia          Tunisia   \n",
              "\n",
              "                         ...                           sectorcode source  \\\n",
              "0                        ...                          ET,BS,ES,EP   IBRD   \n",
              "1                        ...                                BZ,BS   IBRD   \n",
              "\n",
              "   status  supplementprojectflg  \\\n",
              "0  Active                     N   \n",
              "1  Active                     N   \n",
              "\n",
              "                                              theme1  \\\n",
              "0      {'Name': 'Education for all', 'Percent': 100}   \n",
              "1  {'Name': 'Other economic management', 'Percent...   \n",
              "\n",
              "                                      theme_namecode themecode   totalamt  \\\n",
              "0      [{'name': 'Education for all', 'code': '65'}]        65  130000000   \n",
              "1  [{'name': 'Other economic management', 'code':...     54,24          0   \n",
              "\n",
              "  totalcommamt                                                url  \n",
              "0    130000000  http://www.worldbank.org/projects/P129828/ethi...  \n",
              "1      4700000  http://www.worldbank.org/projects/P144674?lang=en  \n",
              "\n",
              "[2 rows x 50 columns]"
            ]
          },
          "metadata": {
            "tags": []
          },
          "execution_count": 10
        }
      ]
    },
    {
      "metadata": {
        "id": "5NjRI_BjMYgz",
        "colab_type": "text"
      },
      "cell_type": "markdown",
      "source": [
        "****\n",
        "## JSON exercise\n",
        "\n",
        "Using data in file 'data/world_bank_projects.json' and the techniques demonstrated above,\n",
        "1. Find the 10 countries with most projects\n",
        "2. Find the top 10 major project themes (using column 'mjtheme_namecode')\n",
        "3. In 2. above you will notice that some entries have only the code and the name is missing. Create a dataframe with the missing names filled in."
      ]
    },
    {
      "metadata": {
        "id": "2DgN5QwNg9Nu",
        "colab_type": "code",
        "colab": {}
      },
      "cell_type": "code",
      "source": [
        "import pandas as pd"
      ],
      "execution_count": 0,
      "outputs": []
    },
    {
      "metadata": {
        "id": "i2ZHdk1ViGf9",
        "colab_type": "code",
        "colab": {}
      },
      "cell_type": "code",
      "source": [
        "import numpy as np"
      ],
      "execution_count": 0,
      "outputs": []
    },
    {
      "metadata": {
        "id": "ySQIqfhIg85n",
        "colab_type": "code",
        "colab": {}
      },
      "cell_type": "code",
      "source": [
        "import json\n",
        "from pandas.io.json import json_normalize"
      ],
      "execution_count": 0,
      "outputs": []
    },
    {
      "metadata": {
        "id": "5YgtVRumiauE",
        "colab_type": "code",
        "colab": {}
      },
      "cell_type": "code",
      "source": [
        "###load json as string\n",
        "data=json.load((open('world_bank_projects.json')))\n",
        "\n",
        "###load json to panda as dataframe\n",
        "df=pd.read_json('world_bank_projects.json')"
      ],
      "execution_count": 0,
      "outputs": []
    },
    {
      "metadata": {
        "id": "LuNoPKf1MYg0",
        "colab_type": "code",
        "colab": {
          "base_uri": "https://localhost:8080/",
          "height": 231
        },
        "outputId": "419b8716-cbd1-4eef-e8a8-478d44bde96c"
      },
      "cell_type": "code",
      "source": [
        "################exercise1 find top 10 countries by number of projects\n",
        "top_projects= df[['countryname' , 'project_name']]\n",
        "top_projects= top_projects.groupby('countryname')\n",
        "top_projects= top_projects.size().sort_values(ascending=False)\n",
        "top_projects = top_projects.head(10)\n",
        "top_projects\n",
        "\n"
      ],
      "execution_count": 1,
      "outputs": [
        {
          "output_type": "error",
          "ename": "NameError",
          "evalue": "ignored",
          "traceback": [
            "\u001b[0;31m---------------------------------------------------------------------------\u001b[0m",
            "\u001b[0;31mNameError\u001b[0m                                 Traceback (most recent call last)",
            "\u001b[0;32m<ipython-input-1-40b2966cfac7>\u001b[0m in \u001b[0;36m<module>\u001b[0;34m()\u001b[0m\n\u001b[0;32m----> 1\u001b[0;31m \u001b[0mtop_projects\u001b[0m\u001b[0;34m=\u001b[0m \u001b[0mdf\u001b[0m\u001b[0;34m[\u001b[0m\u001b[0;34m[\u001b[0m\u001b[0;34m'countryname'\u001b[0m \u001b[0;34m,\u001b[0m \u001b[0;34m'project_name'\u001b[0m\u001b[0;34m]\u001b[0m\u001b[0;34m]\u001b[0m\u001b[0;34m\u001b[0m\u001b[0m\n\u001b[0m\u001b[1;32m      2\u001b[0m \u001b[0mtop_projects\u001b[0m\u001b[0;34m=\u001b[0m \u001b[0mtop_projects\u001b[0m\u001b[0;34m.\u001b[0m\u001b[0mgroupby\u001b[0m\u001b[0;34m(\u001b[0m\u001b[0;34m'countryname'\u001b[0m\u001b[0;34m)\u001b[0m\u001b[0;34m\u001b[0m\u001b[0m\n\u001b[1;32m      3\u001b[0m \u001b[0mtop_projects\u001b[0m\u001b[0;34m=\u001b[0m \u001b[0mtop_projects\u001b[0m\u001b[0;34m.\u001b[0m\u001b[0msize\u001b[0m\u001b[0;34m(\u001b[0m\u001b[0;34m)\u001b[0m\u001b[0;34m.\u001b[0m\u001b[0msort_values\u001b[0m\u001b[0;34m(\u001b[0m\u001b[0mascending\u001b[0m\u001b[0;34m=\u001b[0m\u001b[0;32mFalse\u001b[0m\u001b[0;34m)\u001b[0m\u001b[0;34m\u001b[0m\u001b[0m\n\u001b[1;32m      4\u001b[0m \u001b[0mtop_projects\u001b[0m \u001b[0;34m=\u001b[0m \u001b[0mtop_projects\u001b[0m\u001b[0;34m.\u001b[0m\u001b[0mhead\u001b[0m\u001b[0;34m(\u001b[0m\u001b[0;36m10\u001b[0m\u001b[0;34m)\u001b[0m\u001b[0;34m\u001b[0m\u001b[0m\n\u001b[1;32m      5\u001b[0m \u001b[0mtop_projects\u001b[0m\u001b[0;34m\u001b[0m\u001b[0m\n",
            "\u001b[0;31mNameError\u001b[0m: name 'df' is not defined"
          ]
        }
      ]
    },
    {
      "metadata": {
        "id": "T7HaWNobwpu2",
        "colab_type": "code",
        "colab": {}
      },
      "cell_type": "code",
      "source": [
        ""
      ],
      "execution_count": 0,
      "outputs": []
    },
    {
      "metadata": {
        "id": "i96N5_ASwVjL",
        "colab_type": "code",
        "colab": {}
      },
      "cell_type": "code",
      "source": [
        "################exercise2 \"The top 10 major project themes\"\n",
        "####First, normalize the data to create the tables\n",
        "top_project_themes=json_normalize(data,'mjtheme_namecode')\n",
        "top_project_themes\n",
        "####Group by name \n",
        "top_project_themes=top_project_themes.groupby('name')\n",
        "####sort the result\n",
        "top_project_themes=top_project_themes.size().sort_values(ascending=False)\n",
        "top_project_themes=top_project_themes.head(10)\n",
        "top_project_themes"
      ],
      "execution_count": 0,
      "outputs": []
    },
    {
      "metadata": {
        "id": "dChdGmFSwcPY",
        "colab_type": "code",
        "colab": {}
      },
      "cell_type": "code",
      "source": [
        "################exercise3 \"filling in the missing names\"\n",
        "dataframe= json_normalize(data, 'mjtheme_namecode')\n",
        "dataframe\n",
        "data_unique= dataframe.drop_duplicates()\n",
        "data_unique\n",
        "####replace the empty space as NA\n",
        "data_unique = data_unique[data_unique != '']\n",
        "data_unique.dropna(subset=['name'], inplace=True)\n",
        "#change 'code' to be an integer\n",
        "x1 = data_unique[['code']].astype(int)\n",
        "x2 = data_unique[['name']]\n",
        "#using concat(), sort using sort_values(), and reset the index\n",
        "x = pd.concat([x1, x2], axis=1)\n",
        "x = x.sort_values(\"code\")\n",
        "x = x.reset_index(drop=True)\n",
        "x\n"
      ],
      "execution_count": 0,
      "outputs": []
    }
  ]
}